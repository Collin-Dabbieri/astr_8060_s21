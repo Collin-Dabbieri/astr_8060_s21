{
 "cells": [
  {
   "cell_type": "code",
   "execution_count": 33,
   "metadata": {},
   "outputs": [],
   "source": [
    "# IMPORTS\n",
    "##########\n",
    "##########\n",
    "\n",
    "import numpy as np\n",
    "%matplotlib inline\n",
    "from matplotlib import pyplot as plt\n",
    "\n",
    "from astropy.visualization import hist\n",
    "from astropy.stats import histogram\n",
    "from astropy.io import fits\n",
    "import astropy.units as u\n",
    "\n",
    "import ccdproc\n",
    "from ccdproc import subtract_overscan\n",
    "from ccdproc import trim_image\n",
    "from ccdproc import CCDData"
   ]
  },
  {
   "cell_type": "code",
   "execution_count": 27,
   "metadata": {},
   "outputs": [],
   "source": [
    "#CLD this cell is for all of the constants added throughout the notebook\n",
    "\n",
    "#CLD local path to data, must change in order to run on personal computer\n",
    "path = '../../../../imaging/reduced_data/'\n"
   ]
  },
  {
   "cell_type": "markdown",
   "metadata": {},
   "source": [
    "Based on visual inspection, the overscan region on the left hand side goes from 1 to 54 and on the left hand side seems to go from 2101 to 2200. I will be adding this to the header of every image we are working with (or, if working in python to fits indices, 0 to 52 and 2100 to 2199). From the log book: \n",
    "\n",
    "-bais: a093-a111.fits\n",
    "\n",
    "-darks: d01-d15.fits\n",
    "\n",
    "-flats: a001-a062 (1-21 Halpha, 22-28 are U, 29-42 B, 43-49 V, 50-55 R, 56-62 I)"
   ]
  },
  {
   "cell_type": "code",
   "execution_count": 114,
   "metadata": {},
   "outputs": [
    {
     "name": "stdout",
     "output_type": "stream",
     "text": [
      "665.8330812766335\n"
     ]
    },
    {
     "data": {
      "image/png": "[encoded data removed]",
      "text/plain": [
       "<Figure size 720x720 with 1 Axes>"
      ]
     },
     "metadata": {},
     "output_type": "display_data"
    }
   ],
   "source": [
    "#CLD using python to plot the lines and columns of one of the biases\n",
    "#CLD I will be using a093.fits for this excersice\n",
    "#CLD opeing bias frame and plot to show it\n",
    "b1_data = fits.getdata(path+\"a093.fits\")\n",
    "print(np.mean(b1_data))\n",
    "fig = plt.subplots(1,1,figsize=(10,10))\n",
    "plt.imshow(b1_data, vmin=666, vmax=7536)\n",
    "plt.xticks([])\n",
    "plt.yticks([])\n",
    "plt.title('Bias 1')\n",
    "plt.grid(False)\n",
    "plt.show()"
   ]
  },
  {
   "cell_type": "code",
   "execution_count": 7,
   "metadata": {},
   "outputs": [
    {
     "name": "stdout",
     "output_type": "stream",
     "text": [
      "The RMS is: 9.316261299973021\n",
      "The mean is: 671.359375\n"
     ]
    }
   ],
   "source": [
    "#CLD the chip is 2048 X 2200 so center should be like 1024 and 1100\n",
    "#CLD because of this will be looking at a region around like 1020-1028 and 1096 and 1104\n",
    "b1_center = b1_data[1020:1028, 1096:1104]\n",
    "\n",
    "#CLD RMS will be the standard deviation\n",
    "rms = np.std(b1_center)\n",
    "\n",
    "#CLD the mean is the mean\n",
    "mean = np.mean(b1_center)\n",
    "\n",
    "print('The RMS is: '+str(rms))\n",
    "print('The mean is: '+str(mean))"
   ]
  },
  {
   "cell_type": "markdown",
   "metadata": {},
   "source": [
    "## Problem 5\n",
    "\n",
    "This is an attempt to quantify whether or not the biases are a good example of the overscan region throughout the night. To do this, first looking at all of the biases taken and the mean level of all of the pixels in the bias. Then look at the mean level of the overscan region, which is noted in one of the first cells, in a different set of images that were taken through out the night, ie with different time signatures. \n",
    "\n",
    "For this I will be looking at every other science image up until the baises. I will also be looking at the lefthand side of the overscan, or the bigger portion. "
   ]
  },
  {
   "cell_type": "code",
   "execution_count": 21,
   "metadata": {},
   "outputs": [
    {
     "name": "stdout",
     "output_type": "stream",
     "text": [
      "[665.83308128 665.50395131 665.5575142  665.67133811 665.65969438\n",
      " 665.63690829 665.59073242 665.55084783 665.57650435 665.5441748\n",
      " 665.5616748  665.55110019 665.54791104 665.58815718 665.53799472\n",
      " 665.60195113 665.59595925 665.62843905]\n",
      "0.0717694806159146\n"
     ]
    }
   ],
   "source": [
    "#CLD begin by opening all of the baises data into a master data frame\n",
    "baises_data = []\n",
    "for i in range(111-93):\n",
    "    if i<7:\n",
    "        data = fits.getdata(path+\"a0\"+str(int(i+93))+\".fits\")\n",
    "        baises_data.append(data)\n",
    "    if i>=7:\n",
    "        data = fits.getdata(path+\"a\"+str(int(i+93))+\".fits\")\n",
    "        baises_data.append(data)\n",
    "        \n",
    "baises_data = np.array(baises_data)\n",
    "\n",
    "#CLD making an array of the mean level of each bias\n",
    "bais_mean = []\n",
    "for i in range(len(baises_data)):\n",
    "    mean = np.mean(baises_data[i,:])\n",
    "    bais_mean.append(mean)\n",
    "    \n",
    "bais_mean = np.array(bais_mean)\n",
    "print(bais_mean)\n",
    "print(np.std(bais_mean))"
   ]
  },
  {
   "cell_type": "markdown",
   "metadata": {},
   "source": [
    "Overall, it seems like the bais level is pretty consistent throughout the night. This is seen in the low standard deviation from each mean.\n",
    "\n",
    "Next, I will do a similar process to look at the overscan region in the science images."
   ]
  },
  {
   "cell_type": "code",
   "execution_count": 20,
   "metadata": {},
   "outputs": [
    {
     "name": "stdout",
     "output_type": "stream",
     "text": [
      "[660.90770488 660.04110531 661.03261519 660.12828842 661.01810627\n",
      " 661.05385045 662.05293367 663.05667052 663.56174267 664.54508131\n",
      " 665.76598872 661.64457609 663.12129803 663.78644173 662.89166633\n",
      " 662.45422114 663.01397581 661.75139509 662.93529775 661.95527742\n",
      " 663.17296118 664.70322465]\n",
      "1.4565186370825964\n"
     ]
    }
   ],
   "source": [
    "#CLD begin by opening all of the flats overscan data into a master data frame\n",
    "sci_data = []\n",
    "for i in range(92-70):\n",
    "    data = fits.getdata(path+\"a0\"+str(int(i+70))+\".fits\")\n",
    "    sci_data.append(data[:,2102:2200])\n",
    "        \n",
    "sci_data = np.array(sci_data)\n",
    "\n",
    "#CLD making an array of the mean level of each flat overscan region\n",
    "sci_mean = []\n",
    "for i in range(len(sci_data)):\n",
    "    mean = np.mean(sci_data[i,:])\n",
    "    sci_mean.append(mean)\n",
    "    \n",
    "sci_mean = np.array(sci_mean)\n",
    "print(sci_mean)\n",
    "print(np.std(sci_mean))"
   ]
  },
  {
   "cell_type": "markdown",
   "metadata": {},
   "source": [
    "There is definitley much more internal deviation between the overscan region of these flats.\n",
    "\n",
    "To compare the standard variation in the baises to the variation in the overscan regions of the flats, I am going to subtract the mean of the mean for the biases from all of the means of the flats. If they are close to 0, then the bias level is similar to the overscan level in the flats. "
   ]
  },
  {
   "cell_type": "code",
   "execution_count": 22,
   "metadata": {},
   "outputs": [
    {
     "name": "stdout",
     "output_type": "stream",
     "text": [
      "[-4.68884703 -5.5554466  -4.56393671 -5.46826348 -4.57844564 -4.54270146\n",
      " -3.54361823 -2.53988139 -2.03480924 -1.05147059  0.16943681 -3.95197582\n",
      " -2.47525388 -1.81011018 -2.70488557 -3.14233077 -2.5825761  -3.84515682\n",
      " -2.66125416 -3.64127448 -2.42359073 -0.89332726]\n"
     ]
    }
   ],
   "source": [
    "#CLD using the mean of the means as repersentative variation\n",
    "#CLD feel comfortable doing this as there is very little deviation between the means\n",
    "bais_mean_level = np.mean(bais_mean)\n",
    "\n",
    "#CLD subtracting this repersentative mean to the means of the flats\n",
    "differences = sci_mean - bais_mean_level\n",
    "\n",
    "print(differences)"
   ]
  },
  {
   "cell_type": "markdown",
   "metadata": {},
   "source": [
    "To me, this indicates that the mean level of the baises, and therefore the master bais, would not be a good description of the kind of variation we see in the overscan region through out the night. This is especially true early on. It seems it would be best to model the overscan region in each frame and then subtract this out from the images."
   ]
  },
  {
   "cell_type": "markdown",
   "metadata": {},
   "source": [
    "## Problem 6\n",
    "\n",
    "For this problem, I am first going to investigate the best overscan modeling on a science image in this order: ’chebychev’, ’legandre’, and ’hermite’, and ’polynomial' order 1 through 8. I will look at science image 85 in the V filter. I will be using an overscan region of [ :,2102-2200]. Some of the first pixels of overscan are left out as there is not an instanteous drop off at the edge of the overscan, but more gradual. By omitting some of the frist values, you get a better fit."
   ]
  },
  {
   "cell_type": "code",
   "execution_count": 61,
   "metadata": {},
   "outputs": [
    {
     "name": "stderr",
     "output_type": "stream",
     "text": [
      "WARNING: The fit may be poorly conditioned\n",
      " [astropy.modeling.fitting]\n",
      "WARNING: The fit may be poorly conditioned\n",
      " [astropy.modeling.fitting]\n",
      "WARNING: The fit may be poorly conditioned\n",
      " [astropy.modeling.fitting]\n",
      "WARNING: The fit may be poorly conditioned\n",
      " [astropy.modeling.fitting]\n",
      "WARNING: The fit may be poorly conditioned\n",
      " [astropy.modeling.fitting]\n"
     ]
    }
   ],
   "source": [
    "#CLD importing the astropy.models package for ccdproc purposes\n",
    "from astropy.modeling import models\n",
    "\n",
    "#CLD loading in the science data\n",
    "science_data = fits.getdata(path+\"a085.fits\")\n",
    "\n",
    "#CLD changing fits array data to CCDdata\n",
    "ccd_science = CCDData(science_data, unit=u.adu)\n",
    "\n",
    "#CLD instantiating polynomial models\n",
    "p1 = models.Polynomial1D(degree=1)\n",
    "p2 = models.Polynomial1D(degree=2)\n",
    "p3 = models.Polynomial1D(degree=3)\n",
    "p4 = models.Polynomial1D(degree=4)\n",
    "p5 = models.Polynomial1D(degree=5)\n",
    "p6 = models.Polynomial1D(degree=6)\n",
    "p7 = models.Polynomial1D(degree=7)\n",
    "p8 = models.Polynomial1D(degree=8)\n",
    "\n",
    "#CLD instantiating the other model types for orders 1 through 8\n",
    "c1 = models.Chebyshev1D(degree=1)\n",
    "c2 = models.Chebyshev1D(degree=2)\n",
    "c3 = models.Chebyshev1D(degree=3)\n",
    "c4 = models.Chebyshev1D(degree=4)\n",
    "c5 = models.Chebyshev1D(degree=5)\n",
    "c6 = models.Chebyshev1D(degree=6)\n",
    "c7 = models.Chebyshev1D(degree=7)\n",
    "c8 = models.Chebyshev1D(degree=8)\n",
    "\n",
    "le1 = models.Legendre1D(degree=1)\n",
    "le2 = models.Legendre1D(degree=2)\n",
    "le3 = models.Legendre1D(degree=3)\n",
    "le4 = models.Legendre1D(degree=4)\n",
    "le5 = models.Legendre1D(degree=5)\n",
    "le6 = models.Legendre1D(degree=6)\n",
    "le7 = models.Legendre1D(degree=7)\n",
    "le8 = models.Legendre1D(degree=8)\n",
    "\n",
    "h1 = models.Hermite1D(degree=1)\n",
    "h2 = models.Hermite1D(degree=2)\n",
    "h3 = models.Hermite1D(degree=3)\n",
    "h4 = models.Hermite1D(degree=4)\n",
    "h5 = models.Hermite1D(degree=5)\n",
    "h6 = models.Hermite1D(degree=6)\n",
    "h7 = models.Hermite1D(degree=7)\n",
    "h8 = models.Hermite1D(degree=8)\n",
    "\n",
    "#CLD chebyshev model subtractions\n",
    "sub_c1 = ccdproc.subtract_overscan(ccd_science, overscan=ccd_science[:,2102:2200], model=c1)\n",
    "sub_c2 = ccdproc.subtract_overscan(ccd_science, overscan=ccd_science[:,2102:2200], model=c2)\n",
    "sub_c3 = ccdproc.subtract_overscan(ccd_science, overscan=ccd_science[:,2102:2200], model=c3)\n",
    "sub_c4 = ccdproc.subtract_overscan(ccd_science, overscan=ccd_science[:,2102:2200], model=c4)\n",
    "sub_c5 = ccdproc.subtract_overscan(ccd_science, overscan=ccd_science[:,2102:2200], model=c5)\n",
    "sub_c6 = ccdproc.subtract_overscan(ccd_science, overscan=ccd_science[:,2102:2200], model=c6)\n",
    "sub_c7 = ccdproc.subtract_overscan(ccd_science, overscan=ccd_science[:,2102:2200], model=c7)\n",
    "sub_c8 = ccdproc.subtract_overscan(ccd_science, overscan=ccd_science[:,2102:2200], model=c8)\n",
    "\n",
    "#CLD legendre model subtractions\n",
    "sub_le1 = ccdproc.subtract_overscan(ccd_science, overscan=ccd_science[:,2102:2200], model=le1)\n",
    "sub_le2 = ccdproc.subtract_overscan(ccd_science, overscan=ccd_science[:,2102:2200], model=le2)\n",
    "sub_le3 = ccdproc.subtract_overscan(ccd_science, overscan=ccd_science[:,2102:2200], model=le3)\n",
    "sub_le4 = ccdproc.subtract_overscan(ccd_science, overscan=ccd_science[:,2102:2200], model=le4)\n",
    "sub_le5 = ccdproc.subtract_overscan(ccd_science, overscan=ccd_science[:,2102:2200], model=le5)\n",
    "sub_le6 = ccdproc.subtract_overscan(ccd_science, overscan=ccd_science[:,2102:2200], model=le6)\n",
    "sub_le7 = ccdproc.subtract_overscan(ccd_science, overscan=ccd_science[:,2102:2200], model=le7)\n",
    "sub_le8 = ccdproc.subtract_overscan(ccd_science, overscan=ccd_science[:,2102:2200], model=le8)\n",
    "\n",
    "#CLD Hermite model subtractions\n",
    "sub_h1 = ccdproc.subtract_overscan(ccd_science, overscan=ccd_science[:,2102:2200], model=h1)\n",
    "sub_h2 = ccdproc.subtract_overscan(ccd_science, overscan=ccd_science[:,2102:2200], model=h2)\n",
    "sub_h3 = ccdproc.subtract_overscan(ccd_science, overscan=ccd_science[:,2102:2200], model=h3)\n",
    "sub_h4 = ccdproc.subtract_overscan(ccd_science, overscan=ccd_science[:,2102:2200], model=h4)\n",
    "sub_h5 = ccdproc.subtract_overscan(ccd_science, overscan=ccd_science[:,2102:2200], model=h5)\n",
    "sub_h6 = ccdproc.subtract_overscan(ccd_science, overscan=ccd_science[:,2102:2200], model=h6)\n",
    "sub_h7 = ccdproc.subtract_overscan(ccd_science, overscan=ccd_science[:,2102:2200], model=h7)\n",
    "sub_h8 = ccdproc.subtract_overscan(ccd_science, overscan=ccd_science[:,2102:2200], model=h8)\n",
    "\n",
    "#CLD polynomial model subtractions\n",
    "sub_p1 = ccdproc.subtract_overscan(ccd_science, overscan=ccd_science[:,2102:2200], model=p1)\n",
    "sub_p2 = ccdproc.subtract_overscan(ccd_science, overscan=ccd_science[:,2102:2200], model=p2)\n",
    "sub_p3 = ccdproc.subtract_overscan(ccd_science, overscan=ccd_science[:,2102:2200], model=p3)\n",
    "sub_p4 = ccdproc.subtract_overscan(ccd_science, overscan=ccd_science[:,2102:2200], model=p4)\n",
    "sub_p5 = ccdproc.subtract_overscan(ccd_science, overscan=ccd_science[:,2102:2200], model=p5)\n",
    "sub_p6 = ccdproc.subtract_overscan(ccd_science, overscan=ccd_science[:,2102:2200], model=p6)\n",
    "sub_p7 = ccdproc.subtract_overscan(ccd_science, overscan=ccd_science[:,2102:2200], model=p7)\n",
    "sub_p8 = ccdproc.subtract_overscan(ccd_science, overscan=ccd_science[:,2102:2200], model=p8)"
   ]
  },
  {
   "cell_type": "markdown",
   "metadata": {},
   "source": [
    "I will now be displaying this single science image with the different orders and models of subtraction. The first panel will be the Chebyshev models, the next will be Legendre, then Hermite, and lastly the Polynomial fits, all in sequential order (ie, the first graph is degree=1, the next to the right is degree=2, etc etc)"
   ]
  },
  {
   "cell_type": "code",
   "execution_count": 110,
   "metadata": {},
   "outputs": [
    {
     "data": {
      "image/png": "[encoded data removed]",
      "text/plain": [
       "<Figure size 936x360 with 8 Axes>"
      ]
     },
     "metadata": {
      "needs_background": "light"
     },
     "output_type": "display_data"
    }
   ],
   "source": [
    "#CLD this cell plots the Chebyshev subtractions of this science image\n",
    "cheby = [np.array(sub_c1), np.array(sub_c2), np.array(sub_c3), np.array(sub_c4), np.array(sub_c5)\n",
    "         , np.array(sub_c6), np.array(sub_c7), np.array(sub_c8)]\n",
    "\n",
    "fig, ax = plt.subplots(2,4,figsize=(13,5))\n",
    "ax[0,0].imshow(cheby[0], vmin=np.mean(cheby[0]), vmax=np.max(cheby[0]))\n",
    "ax[0,1].imshow(cheby[1], vmin=np.mean(cheby[1]), vmax=np.max(cheby[1]))\n",
    "ax[0,2].imshow(cheby[2], vmin=np.mean(cheby[2]), vmax=np.max(cheby[2]))\n",
    "ax[0,3].imshow(cheby[3], vmin=np.mean(cheby[3]), vmax=np.max(cheby[3]))\n",
    "ax[1,0].imshow(cheby[4], vmin=np.mean(cheby[4]), vmax=np.max(cheby[4]))\n",
    "ax[1,1].imshow(cheby[5], vmin=np.mean(cheby[5]), vmax=np.max(cheby[5]))\n",
    "ax[1,2].imshow(cheby[6], vmin=np.mean(cheby[6]), vmax=np.max(cheby[6]))\n",
    "ax[1,3].imshow(cheby[7], vmin=np.mean(cheby[7]), vmax=np.max(cheby[7]))\n",
    "#fig.set_title('Chebyshev Overscan Subtraction')\n",
    "plt.show(fig)"
   ]
  },
  {
   "cell_type": "code",
   "execution_count": 111,
   "metadata": {},
   "outputs": [
    {
     "data": {
      "image/png": "[encoded data removed]",
      "text/plain": [
       "<Figure size 936x360 with 8 Axes>"
      ]
     },
     "metadata": {
      "needs_background": "light"
     },
     "output_type": "display_data"
    }
   ],
   "source": [
    "#CLD this cell plots the Legendre subtractions of this science image\n",
    "le = [np.array(sub_le1), np.array(sub_le2), np.array(sub_le3), np.array(sub_le4), np.array(sub_le5)\n",
    "         , np.array(sub_le6), np.array(sub_le7), np.array(sub_le8)]\n",
    "\n",
    "fig, ax = plt.subplots(2,4,figsize=(13,5))\n",
    "ax[0,0].imshow(le[0], vmin=np.min(le[0]), vmax=np.max(le[0]))\n",
    "ax[0,1].imshow(le[1], vmin=np.mean(le[1]), vmax=np.max(le[1]))\n",
    "ax[0,2].imshow(le[2], vmin=np.mean(le[2]), vmax=np.max(le[2]))\n",
    "ax[0,3].imshow(le[3], vmin=np.mean(le[3]), vmax=np.max(le[3]))\n",
    "ax[1,0].imshow(le[4], vmin=np.mean(le[4]), vmax=np.max(le[4]))\n",
    "ax[1,1].imshow(le[5], vmin=np.mean(le[5]), vmax=np.max(le[5]))\n",
    "ax[1,2].imshow(le[6], vmin=np.mean(le[6]), vmax=np.max(le[6]))\n",
    "ax[1,3].imshow(le[7], vmin=np.mean(le[7]), vmax=np.max(le[7]))\n",
    "#fig.set_title('Chebyshev Overscan Subtraction')\n",
    "plt.show(fig)"
   ]
  },
  {
   "cell_type": "code",
   "execution_count": 112,
   "metadata": {},
   "outputs": [
    {
     "data": {
      "image/png": "[encoded data removed]",
      "text/plain": [
       "<Figure size 936x360 with 8 Axes>"
      ]
     },
     "metadata": {
      "needs_background": "light"
     },
     "output_type": "display_data"
    }
   ],
   "source": [
    "#CLD this cell plots the Hermit subtractions of this science image\n",
    "h = [np.array(sub_h1), np.array(sub_h2), np.array(sub_h3), np.array(sub_h4), np.array(sub_h5)\n",
    "         , np.array(sub_h6), np.array(sub_h7), np.array(sub_h8)]\n",
    "\n",
    "fig, ax = plt.subplots(2,4,figsize=(13,5))\n",
    "ax[0,0].imshow(h[0], vmin=np.min(h[0]), vmax=np.max(h[0]))\n",
    "ax[0,1].imshow(h[1], vmin=np.mean(h[1]), vmax=np.max(h[1]))\n",
    "ax[0,2].imshow(h[2], vmin=np.mean(h[2]), vmax=np.max(h[2]))\n",
    "ax[0,3].imshow(h[3], vmin=np.mean(h[3]), vmax=np.max(h[3]))\n",
    "ax[1,0].imshow(h[4], vmin=np.mean(h[4]), vmax=np.max(h[4]))\n",
    "ax[1,1].imshow(h[5], vmin=np.mean(h[5]), vmax=np.max(h[5]))\n",
    "ax[1,2].imshow(h[6], vmin=np.mean(h[6]), vmax=np.max(h[6]))\n",
    "ax[1,3].imshow(h[7], vmin=np.mean(h[7]), vmax=np.max(h[7]))\n",
    "#fig.set_title('Chebyshev Overscan Subtraction')\n",
    "plt.show(fig)"
   ]
  },
  {
   "cell_type": "code",
   "execution_count": 113,
   "metadata": {},
   "outputs": [
    {
     "data": {
      "image/png": "[encoded data removed]",
      "text/plain": [
       "<Figure size 936x360 with 8 Axes>"
      ]
     },
     "metadata": {
      "needs_background": "light"
     },
     "output_type": "display_data"
    }
   ],
   "source": [
    "#CLD this cell plots the Polynomial subtractions of this science image\n",
    "p = [np.array(sub_p1), np.array(sub_p2), np.array(sub_p3), np.array(sub_p4), np.array(sub_p5)\n",
    "         , np.array(sub_p6), np.array(sub_p7), np.array(sub_p8)]\n",
    "\n",
    "fig, ax = plt.subplots(2,4,figsize=(13,5))\n",
    "ax[0,0].imshow(p[0], vmin=np.min(p[0]), vmax=np.max(p[0]))\n",
    "ax[0,1].imshow(p[1], vmin=np.mean(p[1]), vmax=np.max(p[1]))\n",
    "ax[0,2].imshow(p[2], vmin=np.mean(p[2]), vmax=np.max(p[2]))\n",
    "ax[0,3].imshow(p[3], vmin=np.mean(p[3]), vmax=np.max(p[3]))\n",
    "ax[1,0].imshow(p[4], vmin=np.mean(p[4]), vmax=np.max(p[4]))\n",
    "ax[1,1].imshow(p[5], vmin=np.mean(p[5]), vmax=np.max(p[5]))\n",
    "ax[1,2].imshow(p[6], vmin=np.mean(p[6]), vmax=np.max(p[6]))\n",
    "ax[1,3].imshow(p[7], vmin=np.mean(p[7]), vmax=np.max(p[7]))\n",
    "#fig.set_title('Chebyshev Overscan Subtraction')\n",
    "plt.show(fig)"
   ]
  },
  {
   "cell_type": "markdown",
   "metadata": {},
   "source": [
    "Put in some junk here about what overscan subtraction model I am going to go with that also compares the models."
   ]
  },
  {
   "cell_type": "markdown",
   "metadata": {},
   "source": [
    "Now, I am going to iteratively subtract and remove the overscan for each image in this folder and save it as a\"number\"ot.fits ** Do I need to subtract the bais from the darks abd baises as well?? **"
   ]
  },
  {
   "cell_type": "code",
   "execution_count": null,
   "metadata": {},
   "outputs": [],
   "source": [
    "#CLD making look to subtract and trim all images, minus darks and gains, in the imaging folder and to save them with\n",
    "#CLD the ot addition to indicate this process having had happened\n",
    "for i in range(0,241):\n",
    "    if i<5:\n",
    "        data = fits.getdata(path+\"a00\"+str(i+5)+\".fits\")\n",
    "    if i>=5 and i<95:\n",
    "        data = fits.getdata(path+\"a0\"+str(i+5)+\".fits\")\n",
    "    else:\n",
    "        data = fits.detdata(path+'a'+str(i+5)+'.fits')\n",
    "    \n",
    "    ccddata = CCDData(data, unit=u.adu)\n",
    "    sub = ccdproc.subtract_overscan(ccddata, overscan=[:,2102:2200], model=)\n",
    "    trim_sub = ccdproc.trim_image(fits_section=[:,53:2101])\n",
    "    \n",
    "    if i<5:\n",
    "         fits.writeto(path+\"a00\"+str(i+5)+\"ot.fits\")\n",
    "    if i>=5 and i<95:\n",
    "        fits.writeto(path+\"a0\"+str(i+5)+\"ot.fits\")\n",
    "    else:\n",
    "        fits.writeto(path+'a'+str(i+5)+'ot.fits')"
   ]
  },
  {
   "cell_type": "markdown",
   "metadata": {},
   "source": [
    "## Problem 7\n",
    "\n",
    "This problem deals with creating a master bias image and the investiagtion of the validaity of this master bias.\n",
    "\n",
    "The first step will be to investigate the data in all of these images.\n",
    "Will be looking at the mean level in each image, along with the standard deviation, both in the individual images, and the images as a group.\n",
    "\n",
    "If a frame is really off, do a visual inspection and decide wether or not to discount it. \n",
    "\n",
    "Using the final set of images (if there is enough) make a master bias images using mean combine."
   ]
  },
  {
   "cell_type": "code",
   "execution_count": 116,
   "metadata": {},
   "outputs": [
    {
     "name": "stdout",
     "output_type": "stream",
     "text": [
      "The global mean for all baises: 665.5965519082425\n",
      "The std for each image's mean from this global mean: 0.0717694806159146\n",
      "\n",
      "The mean of each image: [665.83308128 665.50395131 665.5575142  665.67133811 665.65969438\n",
      " 665.63690829 665.59073242 665.55084783 665.57650435 665.5441748\n",
      " 665.5616748  665.55110019 665.54791104 665.58815718 665.53799472\n",
      " 665.60195113 665.59595925 665.62843905]\n",
      "The std of each image from its own mean: [9.532843321120467, 8.90440832302805, 8.92654707214331, 8.91783019372463, 9.15360021262778, 8.912341960236885, 8.909404771987573, 8.941481808818256, 8.907702048491156, 9.060101241508017, 9.204789382049897, 8.901463811227572, 8.899546963454311, 9.239660989475526, 8.98109366612888, 8.959462429710513, 8.932890176613084, 8.929579951952473]\n"
     ]
    }
   ],
   "source": [
    "#CLD doing image statistics on the bais data\n",
    "#CLD data loaded in from question 5\n",
    "#CLD already have array of means/levels for each image individually\n",
    "#CLD along with the standard dev for these means\n",
    "#CLD will now be finding the std dev of pixels in each frame and the global mean\n",
    "\n",
    "global_mean = np.mean(bais_mean)\n",
    "bais_std = []\n",
    "for i in range(len(baises_data)):\n",
    "    std = np.std(baises_data[i,:])\n",
    "    bais_std.append(std)\n",
    "    \n",
    "print('The global mean for all baises: '+str(global_mean))\n",
    "print(\"The std for each image's mean from this global mean: \"+str(np.std(bais_mean)))\n",
    "print(\"\")\n",
    "print(\"The mean of each image: \"+str(bais_mean))\n",
    "print(\"The std of each image from its own mean: \"+str(bais_std))"
   ]
  },
  {
   "cell_type": "markdown",
   "metadata": {},
   "source": [
    "To me, none of the baises look too, too different from one another, not to the point that I'm worried one should be investigated and discounted. Because of this, I feel comfortable making a master bais of all the bais frames included in this data set."
   ]
  },
  {
   "cell_type": "code",
   "execution_count": null,
   "metadata": {},
   "outputs": [],
   "source": [
    "#CLD making a master bais from all of these bais images\n",
    "#CLD begin by making a list of bais data in the ccddata format\n",
    "baises_ccd = []\n",
    "for i in range(111-93):\n",
    "    if i<7:\n",
    "        data = fits.getdata(path+\"a0\"+str(int(i+93))+\".fits\")\n",
    "        data = CCDData(data)\n",
    "        baises_ccd.append(data)\n",
    "    if i>=7:\n",
    "        data = fits.getdata(path+\"a\"+str(int(i+93))+\".fits\")\n",
    "        data = CCDData(data)\n",
    "        baises_ccd.append(data)\n",
    "        \n",
    "#CLD using the combine funciton to make a master bais image\n",
    "#CLD do sigma clipping??\n",
    "master_bais = ccdproc.combine(basies_ccd, method='average')\n",
    "\n",
    "#CLD changing data type to np array\n",
    "master_bais = np.array(master_bais)\n",
    "\n",
    "#CLD writing this out to a fits file in the image dir\n",
    "fits.writeto(path+'master_bais.fits')"
   ]
  },
  {
   "cell_type": "code",
   "execution_count": null,
   "metadata": {},
   "outputs": [],
   "source": [
    "#CLD plotting the master bais to make sure there are no nonglobal trends that show up\n",
    "master = fits.getdata(path+\"master_bais.fits\")\n",
    "\n",
    "fig = plt.subplots(1,1,figsize=(10,10))\n",
    "plt.imshow(master, vmin=np.mean(master), vmax=np.max(master))\n",
    "plt.xticks([])\n",
    "plt.yticks([])\n",
    "plt.title('Master Bais')\n",
    "plt.grid(False)\n",
    "plt.show()"
   ]
  },
  {
   "cell_type": "markdown",
   "metadata": {},
   "source": [
    "Put argument here about wether or not I should subtract this master bais from all of the science frames or not and then do subtraction if it won't add too much noise"
   ]
  },
  {
   "cell_type": "code",
   "execution_count": null,
   "metadata": {},
   "outputs": [],
   "source": []
  }
 ],
 "metadata": {
  "kernelspec": {
   "display_name": "Python 3",
   "language": "python",
   "name": "python3"
  },
  "language_info": {
   "codemirror_mode": {
    "name": "ipython",
    "version": 3
   },
   "file_extension": ".py",
   "mimetype": "text/x-python",
   "name": "python",
   "nbconvert_exporter": "python",
   "pygments_lexer": "ipython3",
   "version": "3.7.6"
  }
 },
 "nbformat": 4,
 "nbformat_minor": 4
}
